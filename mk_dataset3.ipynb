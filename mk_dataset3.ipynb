{
 "cells": [
  {
   "cell_type": "markdown",
   "metadata": {},
   "source": [
    "### CSJ/ATR503ベースライン testデータセット作成"
   ]
  },
  {
   "cell_type": "code",
   "execution_count": null,
   "metadata": {},
   "outputs": [],
   "source": [
    "mount='/home/hattori/dataset' # マウントポイント（絶対パスで）\n",
    "exp_name='0731' # 実験名\n",
    "#n=0.2 #検証データ割合\n",
    "exp_dir='./'+exp_name+'/datasets'"
   ]
  },
  {
   "cell_type": "code",
   "execution_count": null,
   "metadata": {},
   "outputs": [],
   "source": [
    "# eval1    (1272)  (filepath,char)\n",
    "csj_eval1_csv=mount+'/CSJ_dataset/label/eval1/eval1.csv'\n",
    "# eval2    (1292)  (filepath,char)\n",
    "csj_eval2_csv=mount+'/CSJ_dataset/label/eval2/eval2.csv'\n",
    "# eval3    (1382)  (filepath,char)\n",
    "csj_eval3_csv=mount+'/CSJ_dataset/label/eval3/eval3.csv'\n",
    "# atr503   (503)   (filepath,char,kana(atr),phone(atr))  \n",
    "atr503_csv=mount+'/atr503/atr503.csv'\n",
    "\n",
    "readme=mount+'/readme.txt'\n",
    "!cat $readme"
   ]
  },
  {
   "cell_type": "code",
   "execution_count": null,
   "metadata": {},
   "outputs": [],
   "source": [
    "import numpy as np\n",
    "import pandas as pd\n",
    "import warnings\n",
    "import datasets\n",
    "warnings.filterwarnings('ignore')"
   ]
  },
  {
   "cell_type": "code",
   "execution_count": null,
   "metadata": {},
   "outputs": [],
   "source": [
    "#test dataset\n",
    "test_eval1 = datasets.load_dataset(\"csv\", data_files={'test':[csj_eval1_csv]})\n",
    "test_eval2 = datasets.load_dataset(\"csv\", data_files={'test':[csj_eval2_csv]})\n",
    "test_eval3 = datasets.load_dataset(\"csv\", data_files={'test':[csj_eval3_csv]})\n",
    "test_atr=datasets.load_dataset(\"csv\", data_files={'test':[atr503_csv]})\n",
    "sets=[test_eval1,test_eval2,test_eval3,test_atr]"
   ]
  },
  {
   "cell_type": "code",
   "execution_count": null,
   "metadata": {},
   "outputs": [],
   "source": [
    "#show\n",
    "from datasets import ClassLabel\n",
    "import random\n",
    "from IPython.display import display, HTML\n",
    "\n",
    "def show_random(dataset, num_examples=10):\n",
    "    assert num_examples <= len(dataset), \"Can't pick more elements than there are in the dataset.\"\n",
    "    picks = []\n",
    "    for _ in range(num_examples):\n",
    "        pick = random.randint(0, len(dataset)-1)\n",
    "        while pick in picks:\n",
    "            pick = random.randint(0, len(dataset)-1)\n",
    "        picks.append(pick)\n",
    "    \n",
    "    df = pd.DataFrame(dataset[picks])\n",
    "    display(HTML(df.to_html()))\n",
    "#show_random({dataset}['test'],2))"
   ]
  },
  {
   "cell_type": "code",
   "execution_count": null,
   "metadata": {},
   "outputs": [],
   "source": [
    "#rename path\n",
    "def renamepath(batch):\n",
    "    batch['path']=mount+str(batch['path'])[1:]\n",
    "    return batch"
   ]
  },
  {
   "cell_type": "code",
   "execution_count": null,
   "metadata": {},
   "outputs": [],
   "source": [
    "# renamepath\n",
    "for s in sets:s['test']=s['test'].map(renamepath)"
   ]
  },
  {
   "cell_type": "code",
   "execution_count": null,
   "metadata": {},
   "outputs": [],
   "source": [
    "import re\n",
    "CHARS_TO_IGNORE = [\",\", \"?\", \"¿\", \".\", \"!\", \"¡\", \";\", \"；\", \":\", '\"\"', \"%\", '\"', \"�\", \"ʿ\", \"·\", \"჻\", \"~\", \"՞\",\n",
    "                   \"؟\", \"،\", \"।\", \"॥\", \"«\", \"»\", \"„\", \"“\", \"”\", \"「\", \"」\", \"‘\", \"’\", \"《\", \"》\", \"(\", \")\", \"[\", \"]\",\n",
    "                   \"{\", \"}\", \"=\", \"`\", \"_\", \"+\", \"<\", \">\", \"…\", \"–\", \"°\", \"´\", \"ʾ\", \"‹\", \"›\", \"©\", \"®\", \"—\", \"→\", \"。\",\n",
    "                   \"、\", \"﹂\", \"﹁\", \"‧\", \"～\", \"﹏\", \"，\", \"｛\", \"｝\", \"（\", \"）\", \"［\", \"］\", \"【\", \"】\", \"‥\", \"〽\",\n",
    "                   \"『\", \"』\", \"〝\", \"〟\", \"⟨\", \"⟩\", \"〜\", \"：\", \"！\", \"？\", \"♪\", \"؛\", \"/\", \"\\\\\", \"º\", \"−\", \"^\", \"'\", \"ʻ\", \"ˆ\",\"「\",\"」\",\"　\",\"｡\"]\n",
    "chars_to_ignore_regex = f\"[{re.escape(''.join(CHARS_TO_IGNORE))}]\"\n",
    "\n",
    "def remove_special_characters(batch):\n",
    "    #s=str(batch['char'])\n",
    "    batch[\"conv_char\"] = re.sub(chars_to_ignore_regex, ' ', str(batch[\"char\"])).upper()\n",
    "    return batch"
   ]
  },
  {
   "cell_type": "code",
   "execution_count": null,
   "metadata": {},
   "outputs": [],
   "source": [
    "# remove_special_char\n",
    "for s in sets: s['test']=s['test'].map(remove_special_characters)"
   ]
  },
  {
   "cell_type": "code",
   "execution_count": null,
   "metadata": {},
   "outputs": [],
   "source": [
    "import MeCab\n",
    "import unidic\n",
    "import romkan\n",
    "#!python -m unidic download #最新辞書\n",
    "mecab = MeCab.Tagger()"
   ]
  },
  {
   "cell_type": "code",
   "execution_count": null,
   "metadata": {},
   "outputs": [],
   "source": [
    "# char2kana（元々カナは出力されないので場合分け）\n",
    "def convert_char_to_kana(batch):\n",
    "    s = mecab.parse(batch[\"conv_char\"])\n",
    "    kana = \"\"\n",
    "    for line in s.split(\"\\n\"):\n",
    "      if line.find(\"\\t\")<=0: continue\n",
    "      columns = line.split(',')\n",
    "      if len(columns) < 10:\n",
    "        kana += line.split('\\t')[0]\n",
    "      else:\n",
    "        kana += columns[9]\n",
    "    batch[\"kana\"] = kana\n",
    "    return batch"
   ]
  },
  {
   "cell_type": "code",
   "execution_count": null,
   "metadata": {},
   "outputs": [],
   "source": [
    "# conv_char2kana\n",
    "for s in sets: s['test']=s['test'].map(convert_char_to_kana)"
   ]
  },
  {
   "cell_type": "code",
   "execution_count": null,
   "metadata": {},
   "outputs": [],
   "source": [
    "# kana2roman\n",
    "def convert_kana_to_roman(batch):\n",
    "    s = mecab.parse(batch[\"kana\"])\n",
    "    kana = \"\"\n",
    "    for line in s.split(\"\\n\"):\n",
    "      if line.find(\"\\t\")<=0: continue\n",
    "      columns = line.split(',')\n",
    "      if len(columns) < 10:\n",
    "        kana += line.split('\\t')[0]\n",
    "      else:\n",
    "        kana += columns[9]\n",
    "    roman = romkan.to_roma(kana)\n",
    "    batch[\"roman\"] = roman\n",
    "    return batch"
   ]
  },
  {
   "cell_type": "code",
   "execution_count": null,
   "metadata": {},
   "outputs": [],
   "source": [
    "# conv_kana2roman\n",
    "for s in sets: s['test']=s['test'].map(convert_kana_to_roman)"
   ]
  },
  {
   "cell_type": "code",
   "execution_count": null,
   "metadata": {},
   "outputs": [],
   "source": [
    "# kana2phoneme (2通り。Mecab等を仲介するか、直接か)\n",
    "# openjtalk options: https://note.com/npaka/n/n6a5307cf8fe1\n",
    "\n",
    "import pyopenjtalk\n",
    "def convert_char2phone_openjtalk(batch):\n",
    "    s = batch[\"conv_char\"]\n",
    "    phones = pyopenjtalk.g2p(s, kana=False)\n",
    "    batch[\"phone\"] = phones\n",
    "    return batch\n",
    "\n",
    "def convert_kana2phone(batch):\n",
    "    s = batch[\"kana\"]\n",
    "    phones = pyopenjtalk.g2p(s, kana=False)\n",
    "    batch[\"phone\"] = phones\n",
    "    return batch"
   ]
  },
  {
   "cell_type": "code",
   "execution_count": null,
   "metadata": {},
   "outputs": [],
   "source": [
    "# conv_kana2phoneme\n",
    "for s in sets: s['test']=s['test'].map(convert_char2phone_openjtalk)"
   ]
  },
  {
   "cell_type": "code",
   "execution_count": null,
   "metadata": {},
   "outputs": [],
   "source": [
    "#被り計測 \n",
    "def extract_all_chars_kana(batch):\n",
    "  all_text = \" \".join(batch[\"phone\"])\n",
    "  vocab = list(set(all_text))\n",
    "  return {\"vocab\": [vocab]}\n",
    "\n",
    "vocab_train_kana = test_eval1.map(extract_all_chars_kana)\n",
    "a=vocab_train_kana['test']['vocab']\n",
    "\n",
    "import itertools\n",
    "b=list(itertools.chain.from_iterable(a))\n",
    "c=list(itertools.chain.from_iterable(b))\n",
    "d=set(c)\n",
    "print(len(d))\n",
    "d"
   ]
  },
  {
   "cell_type": "code",
   "execution_count": null,
   "metadata": {},
   "outputs": [],
   "source": [
    "# save\n",
    "test_eval1['test'].to_csv(exp_dir+'/test_eval1_phone.csv',columns=['path','phone'])\n",
    "test_eval2['test'].to_csv(exp_dir+'/test_eval2_phone.csv',columns=['path','phone'])\n",
    "test_eval3['test'].to_csv(exp_dir+'/test_eval3_phone.csv',columns=['path','phone'])\n",
    "test_atr['test'].to_csv(exp_dir+'/test_atr503_phone.csv',columns=['path','phone'])"
   ]
  },
  {
   "cell_type": "code",
   "execution_count": null,
   "metadata": {},
   "outputs": [],
   "source": []
  }
 ],
 "metadata": {
  "kernelspec": {
   "display_name": "docker",
   "language": "python",
   "name": "docker"
  },
  "language_info": {
   "codemirror_mode": {
    "name": "ipython",
    "version": 3
   },
   "file_extension": ".py",
   "mimetype": "text/x-python",
   "name": "python",
   "nbconvert_exporter": "python",
   "pygments_lexer": "ipython3",
   "version": "3.9.17"
  },
  "orig_nbformat": 4
 },
 "nbformat": 4,
 "nbformat_minor": 2
}
