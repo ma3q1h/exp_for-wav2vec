{
 "cells": [
  {
   "cell_type": "markdown",
   "metadata": {},
   "source": [
    "### trainデータセット作成"
   ]
  },
  {
   "cell_type": "code",
   "execution_count": null,
   "metadata": {},
   "outputs": [],
   "source": [
    "mount='/home/hattori/dataset' # マウントポイント（絶対パスで）\n",
    "exp_name='0730' # 実験名\n",
    "n=0.3 #検証データ割合\n",
    "\n",
    "exp_dir='./'+exp_name+'/datasets'"
   ]
  },
  {
   "cell_type": "code",
   "execution_count": null,
   "metadata": {},
   "outputs": [],
   "source": [
    "# ATR503    (503)   (path,char,kana(atr),phone(atr))  \n",
    "atr503_csv=mount+'/atr503/atr503.csv'\n",
    "\n",
    "# CSJ\n",
    "## eval1    (1272)  (path,char)\n",
    "csj_eval1_csv=mount+'/CSJ_dataset/label/eval1/eval1.csv'\n",
    "## eval2    (1292)  (path,char)\n",
    "csj_eval2_csv=mount+'/CSJ_dataset/label/eval2/eval2.csv'\n",
    "## eval3    (1382)  (path,char)\n",
    "csj_eval3_csv=mount+'/CSJ_dataset/label/eval3/eval3.csv'\n",
    "## train_dev (4000) (path,char)\n",
    "csj_train_dev_csv=mount+'/CSJ_dataset/label/train_dev/csj_train_dev.csv'\n",
    "## train_nodup (403095) (path,char)\n",
    "csj_train_nodup_csv=mount+'/CSJ_dataset/label/train_nodup/csj_train_nodup.csv'\n",
    "\n",
    "# CSS10 (6841)  (path,char)\n",
    "css10_csv=mount+'/CSS10/ja/CSS10_meian.csv'\n",
    "\n",
    "# FW07 (134400) (path, noise, snr, char, phone)\n",
    "fw07_csv=mount+'/FW07/fw07_jdrt_5noise/fw07_jdrt5noise.csv'\n",
    "\n",
    "# JDRT\n",
    "## noisy05_sp7_5N   (141120)    (path, word_no, speaker, sex, noise, snr, char, kana, katakana, roman, phone, speed)\n",
    "noisy05_sp7_5N_csv=mount+'/jdrt_kaga_ver1/jdrt_kaga_noisy05_sp7_5N.csv'\n",
    "## clean05_sp7   (6720)    (path, word_no, speaker, sex, noise, snr, char, kana, katakana, roman, phone, speed)\n",
    "clean05_sp7_csv=mount+'/jdrt_kaga_ver1/jdrt_kaga_clean05_sp7.csv'\n",
    "## clean   (960)    (path, word_no, speaker, sex, noise, snr, char, kana, katakana, roman, phone)\n",
    "clean_csv=mount+'/jdrt_kaga_ver1/jdrt_kaga_clean.csv'\n",
    "## clean05   (960)    (path, word_no, speaker, sex, noise, snr, char, kana, katakana, roman, phone)\n",
    "clean05_csv=mount+'/jdrt_kaga_ver1/jdrt_kaga_clean05.csv'\n",
    "## noisy05_5N   (20160)    (path, word_no, speaker, sex, noise, snr, char, kana, katakana, roman, phone)\n",
    "noisy05_5N_csv=mount+'/jdrt_kaga_ver1/jdrt_kaga_noisy05_5N.csv'\n",
    "\n",
    "# JSSS concat (4877) (path, char)\n",
    "jsss_csv=mount+'/jsss_ver1/jsss_concat.csv'\n",
    "\n",
    "# JSUT concat (7696) (path, char)\n",
    "jsut_csv=mount+'/jsut_ver1.1/jsut_concat.csv'\n",
    "\n",
    "# JVS concat (14997) (path, char)\n",
    "jvs_csv=mount+'/jvs_ver1/jvs_concat.csv'\n",
    "\n",
    "readme=mount+'/readme.txt'\n",
    "#!cat $readme"
   ]
  },
  {
   "cell_type": "code",
   "execution_count": null,
   "metadata": {},
   "outputs": [],
   "source": [
    "import numpy as np\n",
    "import pandas as pd\n",
    "import warnings\n",
    "import datasets\n",
    "warnings.filterwarnings('ignore')"
   ]
  },
  {
   "cell_type": "code",
   "execution_count": null,
   "metadata": {},
   "outputs": [],
   "source": [
    "#train_dataset\n",
    "train = datasets.load_dataset(\"csv\", data_files={\"train\":[atr503_csv,css10_csv,jsut_csv,jsss_csv,jvs_csv]},usecols=['path','char'])\n",
    "\n",
    "#validation dataset\n",
    "#val = datasets.load_dataset(\"csv\", data_files={'test':[csj_train_dev_csv]})\n",
    "sets=[train] #add'val'"
   ]
  },
  {
   "cell_type": "code",
   "execution_count": null,
   "metadata": {},
   "outputs": [],
   "source": [
    "#show\n",
    "from datasets import ClassLabel\n",
    "import random\n",
    "from IPython.display import display, HTML\n",
    "\n",
    "def show_random(dataset, num_examples=10):\n",
    "    assert num_examples <= len(dataset), \"Can't pick more elements than there are in the dataset.\"\n",
    "    picks = []\n",
    "    for _ in range(num_examples):\n",
    "        pick = random.randint(0, len(dataset)-1)\n",
    "        while pick in picks:\n",
    "            pick = random.randint(0, len(dataset)-1)\n",
    "        picks.append(pick)\n",
    "    \n",
    "    df = pd.DataFrame(dataset[picks])\n",
    "    display(HTML(df.to_html()))\n",
    "#show_random({dataset}['test'],2))"
   ]
  },
  {
   "cell_type": "code",
   "execution_count": null,
   "metadata": {},
   "outputs": [],
   "source": [
    "#rename path\n",
    "def renamepath(batch):\n",
    "    batch['path']=mount+str(batch['path'])[1:]\n",
    "    return batch"
   ]
  },
  {
   "cell_type": "code",
   "execution_count": null,
   "metadata": {},
   "outputs": [],
   "source": [
    "# renamepath\n",
    "for s in sets:s['train']=s['train'].map(renamepath)"
   ]
  },
  {
   "cell_type": "code",
   "execution_count": null,
   "metadata": {},
   "outputs": [],
   "source": [
    "import re\n",
    "CHARS_TO_IGNORE = [\",\", \"?\", \"¿\", \".\", \"!\", \"¡\", \";\", \"；\", \":\", '\"\"', \"%\", '\"', \"�\", \"ʿ\", \"·\", \"჻\", \"~\", \"՞\",\n",
    "                   \"؟\", \"،\", \"।\", \"॥\", \"«\", \"»\", \"„\", \"“\", \"”\", \"「\", \"」\", \"‘\", \"’\", \"《\", \"》\", \"(\", \")\", \"[\", \"]\",\n",
    "                   \"{\", \"}\", \"=\", \"`\", \"_\", \"+\", \"<\", \">\", \"…\", \"–\", \"°\", \"´\", \"ʾ\", \"‹\", \"›\", \"©\", \"®\", \"—\", \"→\", \"。\",\n",
    "                   \"、\", \"﹂\", \"﹁\", \"‧\", \"～\", \"﹏\", \"，\", \"｛\", \"｝\", \"（\", \"）\", \"［\", \"］\", \"【\", \"】\", \"‥\", \"〽\",\n",
    "                   \"『\", \"』\", \"〝\", \"〟\", \"⟨\", \"⟩\", \"〜\", \"：\", \"！\", \"？\", \"♪\", \"؛\", \"/\", \"\\\\\", \"º\", \"−\", \"^\", \"'\", \"ʻ\", \"ˆ\",\"「\",\"」\",\"　\",\"｡\"]\n",
    "chars_to_ignore_regex = f\"[{re.escape(''.join(CHARS_TO_IGNORE))}]\"\n",
    "\n",
    "def remove_special_characters(batch):\n",
    "    #s=str(batch['char'])\n",
    "    batch[\"conv_char\"] = re.sub(chars_to_ignore_regex, ' ', str(batch[\"char\"])).upper()\n",
    "    return batch"
   ]
  },
  {
   "cell_type": "code",
   "execution_count": null,
   "metadata": {},
   "outputs": [],
   "source": [
    "# remove_special_char\n",
    "for s in sets: s['train']=s['train'].map(remove_special_characters)"
   ]
  },
  {
   "cell_type": "code",
   "execution_count": null,
   "metadata": {},
   "outputs": [],
   "source": [
    "import MeCab\n",
    "import unidic\n",
    "import romkan\n",
    "#!python -m unidic download #最新辞書\n",
    "mecab = MeCab.Tagger()"
   ]
  },
  {
   "cell_type": "code",
   "execution_count": null,
   "metadata": {},
   "outputs": [],
   "source": [
    "# char2kana（元々カナは出力されないので場合分け）\n",
    "def convert_char_to_kana(batch):\n",
    "    s = mecab.parse(batch[\"conv_char\"])\n",
    "    kana = \"\"\n",
    "    for line in s.split(\"\\n\"):\n",
    "      if line.find(\"\\t\")<=0: continue\n",
    "      columns = line.split(',')\n",
    "      if len(columns) < 10:\n",
    "        kana += line.split('\\t')[0]\n",
    "      else:\n",
    "        kana += columns[9]\n",
    "    batch[\"kana\"] = kana\n",
    "    return batch"
   ]
  },
  {
   "cell_type": "code",
   "execution_count": null,
   "metadata": {},
   "outputs": [],
   "source": [
    "# conv_char2kana\n",
    "for s in sets: s['train']=s['train'].map(convert_char_to_kana)"
   ]
  },
  {
   "cell_type": "code",
   "execution_count": null,
   "metadata": {},
   "outputs": [],
   "source": [
    "# kana2roman\n",
    "def convert_kana_to_roman(batch):\n",
    "    s = mecab.parse(batch[\"kana\"])\n",
    "    kana = \"\"\n",
    "    for line in s.split(\"\\n\"):\n",
    "      if line.find(\"\\t\")<=0: continue\n",
    "      columns = line.split(',')\n",
    "      if len(columns) < 10:\n",
    "        kana += line.split('\\t')[0]\n",
    "      else:\n",
    "        kana += columns[9]\n",
    "    roman = romkan.to_roma(kana)\n",
    "    batch[\"roman\"] = roman\n",
    "    return batch"
   ]
  },
  {
   "cell_type": "code",
   "execution_count": null,
   "metadata": {},
   "outputs": [],
   "source": [
    "# conv_kana2roman\n",
    "for s in sets: s['train']=s['train'].map(convert_kana_to_roman)"
   ]
  },
  {
   "cell_type": "code",
   "execution_count": null,
   "metadata": {},
   "outputs": [],
   "source": [
    "# kana2phoneme (2通り。Mecab等を仲介するか、直接か)\n",
    "# openjtalk options: https://note.com/npaka/n/n6a5307cf8fe1\n",
    "\n",
    "import pyopenjtalk\n",
    "def convert_char2phone_openjtalk(batch):\n",
    "    s = batch[\"conv_char\"]\n",
    "    phones = pyopenjtalk.g2p(s, kana=False)\n",
    "    batch[\"phone\"] = phones\n",
    "    return batch\n",
    "\n",
    "def convert_kana2phone(batch):\n",
    "    s = batch[\"kana\"]\n",
    "    phones = pyopenjtalk.g2p(s, kana=False)\n",
    "    batch[\"phone\"] = phones\n",
    "    return batch"
   ]
  },
  {
   "cell_type": "code",
   "execution_count": null,
   "metadata": {},
   "outputs": [],
   "source": [
    "# conv_kana2phoneme\n",
    "for s in sets: s['train']=s['train'].map(convert_char2phone_openjtalk)"
   ]
  },
  {
   "cell_type": "code",
   "execution_count": null,
   "metadata": {},
   "outputs": [],
   "source": [
    "#被り計測 \n",
    "def extract_all_chars_kana(batch):\n",
    "  all_text = \" \".join(batch[\"phone\"])\n",
    "  vocab = list(set(all_text))\n",
    "  return {\"vocab\": [vocab]}\n",
    "\n",
    "vocab_train_kana = train.map(extract_all_chars_kana)\n",
    "a=vocab_train_kana['train']['vocab']\n",
    "\n",
    "import itertools\n",
    "b=list(itertools.chain.from_iterable(a))\n",
    "c=list(itertools.chain.from_iterable(b))\n",
    "d=set(c)\n",
    "print(len(d))\n",
    "d"
   ]
  },
  {
   "cell_type": "code",
   "execution_count": null,
   "metadata": {},
   "outputs": [],
   "source": [
    "train=train['train'].train_test_split(test_size=n,shuffle=True)"
   ]
  },
  {
   "cell_type": "code",
   "execution_count": null,
   "metadata": {},
   "outputs": [],
   "source": [
    "#save datasets\n",
    "train['train'].to_csv(exp_dir+'/train_phone.csv',columns=['path','phone'])\n",
    "train['test'].to_csv(exp_dir+'/val_phone.csv',columns=['path','phone'])\n",
    "#val['test'].to_csv(exp_dir+'/val_phone.csv',columns=['path','phone'])"
   ]
  },
  {
   "cell_type": "code",
   "execution_count": null,
   "metadata": {},
   "outputs": [],
   "source": []
  }
 ],
 "metadata": {
  "kernelspec": {
   "display_name": "docker",
   "language": "python",
   "name": "docker"
  },
  "language_info": {
   "codemirror_mode": {
    "name": "ipython",
    "version": 3
   },
   "file_extension": ".py",
   "mimetype": "text/x-python",
   "name": "python",
   "nbconvert_exporter": "python",
   "pygments_lexer": "ipython3",
   "version": "3.9.17"
  },
  "orig_nbformat": 4
 },
 "nbformat": 4,
 "nbformat_minor": 2
}
