{
 "cells": [
  {
   "cell_type": "markdown",
   "metadata": {},
   "source": [
    "### FW07 & JDRTなどのphone処理不要のデータセット作成"
   ]
  },
  {
   "cell_type": "code",
   "execution_count": null,
   "metadata": {},
   "outputs": [],
   "source": [
    "mount='/home/hattori/dataset' # マウントポイント（絶対パスで）\n",
    "exp_name='0731' # 実験名\n",
    "n=0.2 #検証データ割合\n",
    "exp_dir='./'+exp_name+'/datasets'"
   ]
  },
  {
   "cell_type": "code",
   "execution_count": null,
   "metadata": {},
   "outputs": [],
   "source": [
    "# FW07\n",
    "fw07_csv=mount+'/FW07/fw07_jdrt_5noise/fw07_jdrt5noise.csv'\n",
    "\n",
    "# JDRT\n",
    "## noisy05_sp7_5N\n",
    "noisy05_sp7_5N_csv=mount+'/jdrt_kaga_ver1/jdrt_kaga_noisy05_sp7_5N.csv'\n",
    "## clean05_sp7\n",
    "clean05_sp7_csv=mount+'/jdrt_kaga_ver1/jdrt_kaga_clean05_sp7.csv'\n",
    "## clean\n",
    "clean_csv=mount+'/jdrt_kaga_ver1/jdrt_kaga_clean.csv'\n",
    "## clean05\n",
    "clean05_csv=mount+'/jdrt_kaga_ver1/jdrt_kaga_clean05.csv'\n",
    "## noisy05_5N\n",
    "noisy05_5N_csv=mount+'/jdrt_kaga_ver1/jdrt_kaga_noisy05_5N.csv'\n",
    "\n",
    "readme=mount+'/readme.txt'\n",
    "!cat $readme"
   ]
  },
  {
   "cell_type": "code",
   "execution_count": null,
   "metadata": {},
   "outputs": [],
   "source": [
    "import numpy as np\n",
    "import pandas as pd\n",
    "import datasets,warnings\n",
    "warnings.filterwarnings('ignore')"
   ]
  },
  {
   "cell_type": "code",
   "execution_count": null,
   "metadata": {},
   "outputs": [],
   "source": [
    "#rename path\n",
    "def renamepath(batch):\n",
    "    batch['path']=mount+str(batch['path'])[1:]\n",
    "    return batch"
   ]
  },
  {
   "cell_type": "markdown",
   "metadata": {},
   "source": [
    "### Train"
   ]
  },
  {
   "cell_type": "code",
   "execution_count": null,
   "metadata": {},
   "outputs": [],
   "source": [
    "#based_dataset & rename path\n",
    "fw07=datasets.load_dataset(\"csv\",data_files={\"train\":[fw07_csv]},usecols=['path','phone','noise'])\n",
    "jdrt=datasets.load_dataset(\"csv\",data_files={\"train\":[clean05_sp7_csv]},usecols=['path','phone','noise'])\n",
    "jdrt2=datasets.load_dataset(\"csv\",data_files={\"train\":[noisy05_5N_csv]},usecols=['path','phone','noise'])\n",
    "sets=[jdrt,fw07]"
   ]
  },
  {
   "cell_type": "code",
   "execution_count": null,
   "metadata": {},
   "outputs": [],
   "source": [
    "for s in sets: s['train']=s['train'].map(renamepath)"
   ]
  },
  {
   "cell_type": "code",
   "execution_count": null,
   "metadata": {},
   "outputs": [],
   "source": [
    "#filter\n",
    "jdrt2=jdrt2.filter(lambda example: example[\"noise\"]!=0)\n",
    "fw07=fw07.filter(lambda example: example[\"noise\"]!=0)"
   ]
  },
  {
   "cell_type": "code",
   "execution_count": null,
   "metadata": {},
   "outputs": [],
   "source": [
    "jdrt2"
   ]
  },
  {
   "cell_type": "code",
   "execution_count": null,
   "metadata": {},
   "outputs": [],
   "source": [
    "#concat\n",
    "train=datasets.concatenate_datasets([jdrt[\"train\"],fw07['train']])"
   ]
  },
  {
   "cell_type": "code",
   "execution_count": null,
   "metadata": {},
   "outputs": [],
   "source": [
    "#split\n",
    "train=train.train_test_split(test_size=n,shuffle=True)\n",
    "train"
   ]
  },
  {
   "cell_type": "code",
   "execution_count": null,
   "metadata": {},
   "outputs": [],
   "source": [
    "#save datasets\n",
    "train['train'].to_csv(exp_dir+'/train_phone.csv',columns=['path','phone'])\n",
    "train['test'].to_csv(exp_dir+'/val_phone.csv',columns=['path','phone'])"
   ]
  },
  {
   "cell_type": "code",
   "execution_count": null,
   "metadata": {},
   "outputs": [],
   "source": [
    "#cashe clear\n",
    "for s in sets: s.cleanup_cache_files()"
   ]
  },
  {
   "cell_type": "markdown",
   "metadata": {},
   "source": [
    "### Test"
   ]
  },
  {
   "cell_type": "code",
   "execution_count": null,
   "metadata": {},
   "outputs": [],
   "source": [
    "# fw07 test dataset no noise\n",
    "jdrt=datasets.load_dataset(\"csv\",data_files={\"test\":[noisy05_5N_csv]},usecols=['path','phone'])\n",
    "jdrt['test']=jdrt['test'].map(renamepath)\n",
    "jdrt['test'].to_csv(exp_dir+'/test_jdrt_phone.csv',columns=['path','phone'])"
   ]
  },
  {
   "cell_type": "code",
   "execution_count": null,
   "metadata": {},
   "outputs": [],
   "source": [
    "# fw07 test dataset no noise\n",
    "fw07=datasets.load_dataset(\"csv\",data_files={\"test\":[fw07_csv]},usecols=['path','phone','noise'])\n",
    "fw07['test']=fw07['test'].map(renamepath)\n",
    "fw07=fw07.filter(lambda example: example[\"noise\"]==0)\n",
    "fw07['test'].to_csv(exp_dir+'/test_fw07_phone.csv',columns=['path','phone'])"
   ]
  },
  {
   "cell_type": "code",
   "execution_count": null,
   "metadata": {},
   "outputs": [],
   "source": []
  }
 ],
 "metadata": {
  "kernelspec": {
   "display_name": "docker",
   "language": "python",
   "name": "docker"
  },
  "language_info": {
   "codemirror_mode": {
    "name": "ipython",
    "version": 3
   },
   "file_extension": ".py",
   "mimetype": "text/x-python",
   "name": "python",
   "nbconvert_exporter": "python",
   "pygments_lexer": "ipython3",
   "version": "3.9.17"
  },
  "orig_nbformat": 4
 },
 "nbformat": 4,
 "nbformat_minor": 2
}
